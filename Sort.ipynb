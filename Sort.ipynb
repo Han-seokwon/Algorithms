{
 "cells": [
  {
   "cell_type": "markdown",
   "metadata": {},
   "source": [
    "# 정렬 알고리즘"
   ]
  },
  {
   "cell_type": "markdown",
   "metadata": {},
   "source": [
    "https://ko.wikipedia.org/wiki/%EC%A0%95%EB%A0%AC_%EC%95%8C%EA%B3%A0%EB%A6%AC%EC%A6%98"
   ]
  },
  {
   "cell_type": "markdown",
   "metadata": {},
   "source": [
    "정렬 알고리즘의 분류 밒 평가 기준\n",
    "\n",
    "1. 계산 복잡도 (최선, 최악, 평균) \n",
    "\n",
    "2. 메모리 사용량\n",
    "\n",
    "3. 안정성\n"
   ]
  },
  {
   "cell_type": "markdown",
   "metadata": {},
   "source": [
    "안정정렬 = 동일한 값을 가지는 다수의 요소들이 정렬 후에도 정렬 전과 같은 순서를 가지는 것이다.\n",
    "\n",
    "불안정 정렬= 안정정렬의 반대\n"
   ]
  },
  {
   "cell_type": "code",
   "execution_count": 2,
   "metadata": {
    "scrolled": true
   },
   "outputs": [
    {
     "data": {
      "text/plain": [
       "[4, 2, 3, 1, 8, 9, 5, 7, 10, 6]"
      ]
     },
     "execution_count": 2,
     "metadata": {},
     "output_type": "execute_result"
    }
   ],
   "source": [
    "stand_list=[4, 2, 3, 1, 8, 9, 5, 7, 10, 6]\n",
    "stand_list"
   ]
  },
  {
   "cell_type": "markdown",
   "metadata": {},
   "source": [
    "# Selection Sort(선택정렬)"
   ]
  },
  {
   "cell_type": "code",
   "execution_count": 4,
   "metadata": {
    "scrolled": true
   },
   "outputs": [
    {
     "name": "stdout",
     "output_type": "stream",
     "text": [
      "0# [1, 2, 3, 4, 8, 9, 5, 7, 10, 6]\n",
      "1# [1, 2, 3, 4, 8, 9, 5, 7, 10, 6]\n",
      "2# [1, 2, 3, 4, 8, 9, 5, 7, 10, 6]\n",
      "3# [1, 2, 3, 4, 8, 9, 5, 7, 10, 6]\n",
      "4# [1, 2, 3, 4, 5, 9, 8, 7, 10, 6]\n",
      "5# [1, 2, 3, 4, 5, 6, 8, 7, 10, 9]\n",
      "6# [1, 2, 3, 4, 5, 6, 7, 8, 10, 9]\n",
      "7# [1, 2, 3, 4, 5, 6, 7, 8, 10, 9]\n",
      "8# [1, 2, 3, 4, 5, 6, 7, 8, 9, 10]\n",
      "9# [1, 2, 3, 4, 5, 6, 7, 8, 9, 10]\n",
      "sorted= [1, 2, 3, 4, 5, 6, 7, 8, 9, 10]\n"
     ]
    }
   ],
   "source": [
    "list1=[4, 2, 3, 1, 8, 9, 5, 7, 10, 6]\n",
    "\n",
    "for i in range(len(list1)):\n",
    "    # 기준 인덱스 설정(첫번째부터 시작)\n",
    "    min1=list1[i]\n",
    "    min_index=i\n",
    "    for j in range(i,len(list1)):\n",
    "        # 회차가 끝날 때마다 기준 인덱스 값 고정\n",
    "        if min1>list1[j]:\n",
    "            # 최솟값 찾기\n",
    "            min1=list1[j]\n",
    "            min_index = j\n",
    "    # 최솟값 인덱스와 기준 인덱스 값 교체\n",
    "    temp=list1[i]\n",
    "    list1[i]=list1[min_index]\n",
    "    list1[min_index]=temp\n",
    "    print('%d#'%i,list1)\n",
    "print('sorted=',list1)\n"
   ]
  },
  {
   "cell_type": "markdown",
   "metadata": {},
   "source": [
    "# Bubble Sort(버블정렬)"
   ]
  },
  {
   "cell_type": "code",
   "execution_count": 5,
   "metadata": {},
   "outputs": [
    {
     "name": "stdout",
     "output_type": "stream",
     "text": [
      "0# [2, 3, 1, 4, 8, 5, 7, 9, 6, 10]\n",
      "1# [2, 1, 3, 4, 5, 7, 8, 6, 9, 10]\n",
      "2# [1, 2, 3, 4, 5, 7, 6, 8, 9, 10]\n",
      "3# [1, 2, 3, 4, 5, 6, 7, 8, 9, 10]\n",
      "4# [1, 2, 3, 4, 5, 6, 7, 8, 9, 10]\n",
      "5# [1, 2, 3, 4, 5, 6, 7, 8, 9, 10]\n",
      "6# [1, 2, 3, 4, 5, 6, 7, 8, 9, 10]\n",
      "7# [1, 2, 3, 4, 5, 6, 7, 8, 9, 10]\n",
      "8# [1, 2, 3, 4, 5, 6, 7, 8, 9, 10]\n",
      "9# [1, 2, 3, 4, 5, 6, 7, 8, 9, 10]\n",
      "sorted= [1, 2, 3, 4, 5, 6, 7, 8, 9, 10]\n"
     ]
    }
   ],
   "source": [
    "list2=[4, 2, 3, 1, 8, 9, 5, 7, 10, 6]\n",
    "\n",
    "for i in range(len(list2)):\n",
    "    for j in range(1,len(list2)-i):\n",
    "        # 두 번쨰 인덱스 부터 비교\n",
    "        # 회차가 끝날 때마다 마지막 인덱스 값 고정\n",
    "        if list2[j]<list2[j-1]:\n",
    "            # 앞의 값보다 작으면 교체\n",
    "            temp=list2[j]\n",
    "            list2[j]=list2[j-1]\n",
    "            list2[j-1]=temp\n",
    "    print('%d#'%i,list2)\n",
    "print('sorted=',list2)\n",
    "\n"
   ]
  },
  {
   "cell_type": "markdown",
   "metadata": {},
   "source": [
    "# Insertion Sort(삽입정렬)"
   ]
  },
  {
   "cell_type": "code",
   "execution_count": 6,
   "metadata": {},
   "outputs": [
    {
     "name": "stdout",
     "output_type": "stream",
     "text": [
      "1# [2, 4, 3, 1, 8, 9, 5, 7, 10, 6]\n",
      "2# [2, 3, 4, 1, 8, 9, 5, 7, 10, 6]\n",
      "3# [1, 2, 3, 4, 8, 9, 5, 7, 10, 6]\n",
      "4# [1, 2, 3, 4, 8, 9, 5, 7, 10, 6]\n",
      "5# [1, 2, 3, 4, 8, 9, 5, 7, 10, 6]\n",
      "6# [1, 2, 3, 4, 5, 8, 9, 7, 10, 6]\n",
      "7# [1, 2, 3, 4, 5, 7, 8, 9, 10, 6]\n",
      "8# [1, 2, 3, 4, 5, 7, 8, 9, 10, 6]\n",
      "9# [1, 2, 3, 4, 5, 6, 7, 8, 9, 10]\n",
      "sorted= [1, 2, 3, 4, 5, 6, 7, 8, 9, 10]\n"
     ]
    }
   ],
   "source": [
    "list3=[4, 2, 3, 1, 8, 9, 5, 7, 10, 6]\n",
    "\n",
    "for i in range(1,len(list3)):\n",
    "    # 두 번쨰 인덱스부터 기준\n",
    "    k=i\n",
    "    for j in range(i):\n",
    "        # 기준 인덱스까지 비교\n",
    "        if list3[k]<list3[k-1]:\n",
    "            # 이전 인덱스 값보다 작으면 교체\n",
    "            temp = list3[k]\n",
    "            list3[k] = list3[k - 1]\n",
    "            list3[k-1] = temp\n",
    "            # 교체시 대상 인덱스 값 -1\n",
    "            k-=1\n",
    "        if list3[k]>=list3[k-1] or k==0:\n",
    "            # 이전 인덱스 값보다 크거나 같으면 중지\n",
    "            # 대상 인덱스가 0이어도 중지\n",
    "            break\n",
    "\n",
    "    print('%d#' % i, list3)\n",
    "print('sorted=', list3)\n"
   ]
  },
  {
   "cell_type": "markdown",
   "metadata": {},
   "source": [
    "# Merge Sort(합병정렬)"
   ]
  },
  {
   "cell_type": "code",
   "execution_count": 1,
   "metadata": {},
   "outputs": [
    {
     "name": "stdout",
     "output_type": "stream",
     "text": [
      "[[2, 4], [1, 3], [8, 9], [5, 7], [6, 10]]\n",
      "[[1, 2, 3, 4], [5, 7, 8, 9], [6]]\n",
      "[[1, 2, 3, 4, 5, 7, 8, 9], [6]]\n",
      "sorted= [1, 2, 3, 4, 5, 6, 7, 8, 9]\n"
     ]
    }
   ],
   "source": [
    "list3=[4, 2, 3, 1, 8, 9, 5, 7, 10, 6]\n",
    "\n",
    "mlist3=[]\n",
    "for i in range(len(list3)):\n",
    "    mlist3.append([list3[i]])\n",
    "\n",
    "def combine(mlist,i):\n",
    "\n",
    "    nlist=[]\n",
    "    if len(mlist)==i+1:\n",
    "        nlist.append(mlist[i][0])\n",
    "\n",
    "    else:\n",
    "        a=mlist[i]\n",
    "        b=mlist[i+1]\n",
    "        ai=0\n",
    "        bi=0\n",
    "        for j in range(len(a)+len(b)):\n",
    "            if ai==len(a):\n",
    "\n",
    "                for k in range(len(b)-bi):\n",
    "                    nlist.append(b[bi])\n",
    "                    bi+=1\n",
    "                break\n",
    "            if bi==len(b):\n",
    "\n",
    "                for k in range(len(a)-ai):\n",
    "                    nlist.append(a[ai])\n",
    "                    ai+=1\n",
    "                break\n",
    "            if a[ai]<b[bi]:\n",
    "\n",
    "                nlist.append(a[ai])\n",
    "                ai+=1\n",
    "            else:\n",
    "                nlist.append(b[bi])\n",
    "                bi+=1\n",
    "    return nlist\n",
    "\n",
    "\n",
    "def merge(mlist):\n",
    "\n",
    "    temp_list=[]\n",
    "    l=len(mlist)\n",
    "    if l%2==1:\n",
    "        mid=int(l/2)+1\n",
    "    else:\n",
    "        mid=int(l/2)\n",
    "    for i in range(mid):\n",
    "        temp_list.append(combine(mlist,i*2))\n",
    "\n",
    "    if len(temp_list)>1:\n",
    "        print(temp_list)\n",
    "        return merge(temp_list)\n",
    "\n",
    "    else:\n",
    "        print('sorted=',temp_list[0])\n",
    "\n",
    "merge(mlist3)\n"
   ]
  },
  {
   "cell_type": "code",
   "execution_count": null,
   "metadata": {},
   "outputs": [],
   "source": [
    "def merge_sort(list):\n",
    "    if len(list) <= 1:\n",
    "        return list\n",
    "    mid = len(list) // 2\n",
    "    leftList = list[:mid]\n",
    "    rightList = list[mid:]\n",
    "    leftList = merge_sort(leftList)\n",
    "    rightList = merge_sort(rightList)\n",
    "    return merge(leftList, rightList)\n",
    "\n",
    "def merge(left, right):\n",
    "    result = []\n",
    "    while len(left) > 0 or len(right) > 0:\n",
    "        if len(left) > 0 and len(right) > 0:\n",
    "            if left[0] <= right[0]:\n",
    "                result.append(left[0])\n",
    "                left = left[1:]\n",
    "            else:\n",
    "                result.append(right[0])\n",
    "                right = right[1:]\n",
    "        elif len(left) > 0:\n",
    "            result.append(left[0])\n",
    "            left = left[1:]\n",
    "        elif len(right) > 0:\n",
    "            result.append(right[0])\n",
    "            right = right[1:]\n",
    "    return result"
   ]
  },
  {
   "cell_type": "markdown",
   "metadata": {},
   "source": [
    "# Quick Sort(퀵정렬)"
   ]
  },
  {
   "cell_type": "code",
   "execution_count": 1,
   "metadata": {},
   "outputs": [
    {
     "name": "stdout",
     "output_type": "stream",
     "text": [
      "[1, 2, 3, 4, 5, 6, 7, 8, 9, 10]\n"
     ]
    }
   ],
   "source": [
    "list4=[4, 2, 3, 1, 8, 9, 5, 7, 10, 6]\n",
    "\n",
    "def quick(mlist):\n",
    "    if len(mlist)<=1:\n",
    "        return mlist\n",
    "    pivot=mlist[0]\n",
    "    L=1\n",
    "    R=len(mlist)-1\n",
    "    while L<=R:\n",
    "        if mlist[L]>pivot and mlist[R]<=pivot:\n",
    "\n",
    "            temp=mlist[L]\n",
    "            mlist[L]=mlist[R]\n",
    "            mlist[R]=temp\n",
    "\n",
    "        else:\n",
    "            if mlist[L]<=pivot:\n",
    "                L+=1\n",
    "            if mlist[R]>pivot:\n",
    "                R-=1\n",
    "\n",
    "    piv=R\n",
    "    temp=pivot\n",
    "    mlist[0]=mlist[piv]\n",
    "    mlist[piv]=temp\n",
    "\n",
    "\n",
    "    left=mlist[:piv]\n",
    "    right=mlist[piv+1:]\n",
    "\n",
    "    return quick(left)+[mlist[piv]]+quick(right)\n",
    "\n",
    "print(quick(list4))"
   ]
  },
  {
   "cell_type": "markdown",
   "metadata": {},
   "source": [
    "# Counting sort(카운팅 정렬)"
   ]
  },
  {
   "cell_type": "markdown",
   "metadata": {},
   "source": [
    "1. 요소값을 비교 하징 않고 정렬하는 방법\n",
    "2. 입력 숫자의 크기가 클수록 비효율적이다.\n",
    "3. 누적 합을 기반으로 출력 배열에 요소를 이동하며 정렬할 때, 입력 배열의 가장 큰 인덱스에서 작은 인덱스로 진행해야 안정 정렬이 가능하다"
   ]
  },
  {
   "cell_type": "code",
   "execution_count": null,
   "metadata": {},
   "outputs": [],
   "source": [
    "times=int(input())\n",
    "list1=[]\n",
    "count={}\n",
    "for i in range(times):\n",
    "    x=int(input())\n",
    "    list1.append(x)\n",
    "\n",
    "\n",
    "def count(list1):\n",
    "    # 입력값의 개수를 저장할 딕셔너리 생성\n",
    "    dic = {} \n",
    "    for i in list1:\n",
    "        # 이미 딕셔너리에 있는 값이면 value값을 +1\n",
    "        if i in dic:\n",
    "            dic[i] += 1\n",
    "        else:\n",
    "            # 딕셔너리에 없는 값이면 1로 저장\n",
    "            for j in range(i):\n",
    "                # 입력값보다 작은 값이 딕셔너리에 없으면 value를 0으로 하고 저장\n",
    "                if j in dic:\n",
    "                    pass\n",
    "                else:\n",
    "                    dic[j] = 0\n",
    "            dic[i]=1\n",
    "\n",
    "    return dic\n",
    "\n",
    "def counting(list1):\n",
    "    # 위의 count 함수 호출\n",
    "    dic=count(list1)\n",
    "    \n",
    "    # 입력값의 누적합 저장\n",
    "    for i in range(1,len(dic)):\n",
    "        dic[i]+=dic[i-1]\n",
    "    \n",
    "    # 입력리스트와 동일한 크기의 출력리스트(정렬) 만들기\n",
    "    sort_list=[0]*len(list1)\n",
    "    \n",
    "        \n",
    "    # 입력리스트를 뒤에서부터 새로운 리스트에 저장\n",
    "    # 누적합을 토대로 저장 위치 선정\n",
    "    for i in range(len(list1)):\n",
    "        n=list1[len(list1)-i-1] # 정렬할 원소\n",
    "        sort_list[dic[n]-1]=n # 리스트의 정해진 위치에 정렬할 원소 대입\n",
    "        dic[n]-=1 \n",
    "    return sort_list\n",
    "\n",
    "for i in counting(list1):\n",
    "    print(i)\n",
    "\n"
   ]
  },
  {
   "cell_type": "code",
   "execution_count": null,
   "metadata": {},
   "outputs": [],
   "source": [
    "# 딕셔너리가 아닌 리스트를 이용한 카운팅 정렬\n",
    "def counting(list1):\n",
    "\n",
    "    max1=max(list1)\n",
    "    count = [0]*(max1+1)\n",
    "\n",
    "    for i in list1:\n",
    "        count[i]+=1\n",
    "\n",
    "    for i in range(1,len(count)):\n",
    "        count[i]+=count[i-1]\n",
    "\n",
    "    sort_list=[0]*len(list1)\n",
    "\n",
    "    for i in range(len(list1)):\n",
    "        n=list1[len(list1)-i-1]\n",
    "        sort_list[count[n]-1]=n\n",
    "        count[n]-=1\n",
    "    return sort_list"
   ]
  },
  {
   "cell_type": "markdown",
   "metadata": {},
   "source": [
    "# Quick Sort(퀵정렬)"
   ]
  },
  {
   "cell_type": "code",
   "execution_count": 1,
   "metadata": {},
   "outputs": [
    {
     "name": "stdout",
     "output_type": "stream",
     "text": [
      "[1, 2, 3, 4, 5, 6, 7, 8, 9, 10]\n"
     ]
    }
   ],
   "source": [
    "list4=[4, 2, 3, 1, 8, 9, 5, 7, 10, 6]\n",
    "\n",
    "def quick(mlist):\n",
    "    if len(mlist)<=1:\n",
    "        return mlist\n",
    "    pivot=mlist[0]\n",
    "    L=1\n",
    "    R=len(mlist)-1\n",
    "    while L<=R:\n",
    "        if mlist[L]>pivot and mlist[R]<=pivot:\n",
    "\n",
    "            temp=mlist[L]\n",
    "            mlist[L]=mlist[R]\n",
    "            mlist[R]=temp\n",
    "\n",
    "        else:\n",
    "            if mlist[L]<=pivot:\n",
    "                L+=1\n",
    "            if mlist[R]>pivot:\n",
    "                R-=1\n",
    "\n",
    "    piv=R\n",
    "    temp=pivot\n",
    "    mlist[0]=mlist[piv]\n",
    "    mlist[piv]=temp\n",
    "\n",
    "\n",
    "    left=mlist[:piv]\n",
    "    right=mlist[piv+1:]\n",
    "\n",
    "    return quick(left)+[mlist[piv]]+quick(right)\n",
    "\n",
    "print(quick(list4))"
   ]
  },
  {
   "cell_type": "markdown",
   "metadata": {},
   "source": [
    "-------------------------\n"
   ]
  },
  {
   "cell_type": "markdown",
   "metadata": {},
   "source": [
    "# 정렬"
   ]
  },
  {
   "cell_type": "markdown",
   "metadata": {},
   "source": [
    "# 2750 수 정렬하기; O(n^2)"
   ]
  },
  {
   "cell_type": "markdown",
   "metadata": {},
   "source": [
    "- 성공한 코드"
   ]
  },
  {
   "cell_type": "code",
   "execution_count": null,
   "metadata": {},
   "outputs": [],
   "source": [
    "times=int(input())\n",
    "list1=[]\n",
    "for i in range(times):\n",
    "    list1.append(int(input()))\n",
    "    \n",
    "# 삽입정렬\n",
    "def InsertionSort(list2):\n",
    "    l=len(list2)\n",
    "    for i in range(1,l):\n",
    "        k=i\n",
    "        for j in range(i):\n",
    "            if list2[k]<list2[k-1]:\n",
    "                temp=list2[k]\n",
    "                list2[k]=list2[k-1]\n",
    "                list2[k-1]=temp\n",
    "                k-=1\n",
    "            else:\n",
    "                break\n",
    "    return list2\n",
    "for i in InsertionSort(list1):\n",
    "    print(i)"
   ]
  },
  {
   "cell_type": "markdown",
   "metadata": {},
   "source": [
    "# 2751번 수 정렬하기2; O(nlog n)"
   ]
  },
  {
   "cell_type": "markdown",
   "metadata": {},
   "source": [
    "- 성공한 코드"
   ]
  },
  {
   "cell_type": "code",
   "execution_count": null,
   "metadata": {},
   "outputs": [],
   "source": [
    "import sys\n",
    "n = int(sys.stdin.readline())\n",
    "l = []\n",
    "for i in range(n):\n",
    "    l.append(int(sys.stdin.readline()))\n",
    "# python의 sorted 함수의 시간복잡도는 O(nlog n)이다.\n",
    "for i in sorted(l):\n",
    "    print(i)"
   ]
  },
  {
   "cell_type": "markdown",
   "metadata": {},
   "source": [
    "# 10989번 수 정렬하기3"
   ]
  },
  {
   "cell_type": "markdown",
   "metadata": {},
   "source": [
    "- 메모리 초과; 실패"
   ]
  },
  {
   "cell_type": "code",
   "execution_count": null,
   "metadata": {},
   "outputs": [],
   "source": [
    "# 카운팅 정렬사용\n",
    "times=int(input())\n",
    "list1=[]\n",
    "count={}\n",
    "for i in range(times):\n",
    "    x=int(input())\n",
    "    list1.append(x)\n",
    "\n",
    "\n",
    "def count(list1):\n",
    "    dic = {}\n",
    "    for i in list1:\n",
    "        if i in dic:\n",
    "            dic[i] += 1\n",
    "        else:\n",
    "            for j in range(i):\n",
    "                if j in dic:\n",
    "                    pass\n",
    "                else:\n",
    "                    dic[j] = 0\n",
    "            dic[i]=1\n",
    "\n",
    "    return dic\n",
    "\n",
    "def counting(list1):\n",
    "    dic=count(list1)\n",
    "\n",
    "    for i in range(1,len(dic)):\n",
    "\n",
    "        dic[i]+=dic[i-1]\n",
    "\n",
    "    sort_list=[]\n",
    "    for j in range(len(list1)):\n",
    "        sort_list.append(0)\n",
    "\n",
    "    for i in range(len(list1)):\n",
    "        n=list1[len(list1)-i-1]\n",
    "        sort_list[dic[n]-1]=n\n",
    "        dic[n]-=1\n",
    "    return sort_list\n",
    "\n",
    "for i in counting(list1):\n",
    "    print(i)"
   ]
  },
  {
   "cell_type": "markdown",
   "metadata": {},
   "source": [
    "- 메모리 초과; 실패"
   ]
  },
  {
   "cell_type": "code",
   "execution_count": null,
   "metadata": {},
   "outputs": [],
   "source": [
    "list1=[]\n",
    "for i in range(int(input())):\n",
    "    list1.append(int(input()))\n",
    "\n",
    "\n",
    "count = [0]*10000\n",
    "\n",
    "for i in list1:\n",
    "    count[i]+=1\n",
    "\n",
    "k=0\n",
    "\n",
    "while True:\n",
    "    if count[k]!=0:\n",
    "        print(k)\n",
    "        count[k]-=1\n",
    "    else:\n",
    "        k+=1\n",
    "    if k==len(count):\n",
    "        break"
   ]
  },
  {
   "cell_type": "markdown",
   "metadata": {},
   "source": [
    "- 성공한 코드"
   ]
  },
  {
   "cell_type": "code",
   "execution_count": null,
   "metadata": {},
   "outputs": [],
   "source": [
    "import sys\n",
    "count = [0]*10001\n",
    "for i in range(int(sys.stdin.readline())):\n",
    "    count[int(sys.stdin.readline())]+=1\n",
    "\n",
    "for i in range(len(count)):\n",
    "    if count[i]!=0:\n",
    "        for j in range(count[i]):\n",
    "            print(i)"
   ]
  },
  {
   "cell_type": "markdown",
   "metadata": {},
   "source": [
    "# 2108번 통계학"
   ]
  },
  {
   "cell_type": "markdown",
   "metadata": {},
   "source": [
    "- 시간초과; 실패"
   ]
  },
  {
   "cell_type": "code",
   "execution_count": null,
   "metadata": {},
   "outputs": [],
   "source": [
    "count=[0]*8001\n",
    "sum1=0\n",
    "for i in range(int(input())):\n",
    "    x=int(input())\n",
    "    sum1+=x\n",
    "    x+=4000\n",
    "    count[x]+=1\n",
    "\n",
    "\n",
    "list1=[]\n",
    "max1=0\n",
    "for i in range(len(count)):\n",
    "    if count[i]!=0:\n",
    "        list1.append(i-4000)\n",
    "        if count[i]>count[max1]:\n",
    "            max1=i\n",
    "\n",
    "\n",
    "# 평균\n",
    "avg=int(sum1/len(list1))\n",
    "\n",
    "#중앙값\n",
    "if len(list1)%2==0:\n",
    "    mid=int((list1[len(list1)//2]+list1[len(list1)//2-1])/2)\n",
    "else:\n",
    "    mid=list1[len(list1)//2]\n",
    "\n",
    "\n",
    "# 최빈값\n",
    "frequent=[]\n",
    "for i in range(max1,len(count)):\n",
    "    if count[max1]==count[i]:\n",
    "        frequent.append(i-4000)\n",
    "if len(frequent)>1:\n",
    "    fre_num=frequent[1]\n",
    "else:\n",
    "    fre_num=frequent[0]\n",
    "\n",
    "\n",
    "# 범위\n",
    "scale=list1[-1]-list1[0]\n",
    "\n",
    "print(avg)\n",
    "print(mid)\n",
    "print(fre_num)\n",
    "print(scale)"
   ]
  },
  {
   "cell_type": "markdown",
   "metadata": {},
   "source": [
    "- 성공한 코드"
   ]
  },
  {
   "cell_type": "code",
   "execution_count": null,
   "metadata": {},
   "outputs": [],
   "source": [
    "import sys\n",
    "from collections import Counter # 카운트하는 모듈\n",
    "\n",
    "\n",
    "t = int(sys.stdin.readline())\n",
    "\n",
    "numbers = []\n",
    "for _ in range(t):\n",
    "    numbers.append(int(sys.stdin.readline()))\n",
    "\n",
    "\n",
    "def mean(nums):\n",
    "    return round(sum(nums) / len(nums))\n",
    "\n",
    "\n",
    "def median(nums):\n",
    "    nums.sort()\n",
    "    mid = nums[len(nums) // 2]  # nums의 개수는 홀수\n",
    "\n",
    "    return mid\n",
    "\n",
    "\n",
    "def mode(nums): # 최빈값\n",
    "    mode_dict = Counter(nums)\n",
    "    # 빈도가 높은 순대로 정렬된 배열 반환\n",
    "    # 만약 빈도수가 같다면 원래 리스트의 순서대로 나열됨\n",
    "    # 원래리스트는 앞에서 median()을 하면서 원소가 정렬된 상태임\n",
    "    modes = mode_dict.most_common() # ('원소', 빈도수) \n",
    "\n",
    "    if len(nums) > 1:\n",
    "        if modes[0][1] == modes[1][1]: # 최빈 값이 2개 일 때; 2개 이상일 수도 있음\n",
    "            mod = modes[1][0] # 두번 째로 작은 값 선택(이미 정렬된 상태여서  modes[1][0]가 두번째로 작은 최빈값임)\n",
    "        else:\n",
    "            mod = modes[0][0]\n",
    "    else: # 원소가 하나일 때\n",
    "        mod = modes[0][0]\n",
    "\n",
    "    return mod\n",
    "\n",
    "\n",
    "def scope(nums):\n",
    "    return max(nums) - min(nums)\n",
    "\n",
    "\n",
    "print(mean(numbers))\n",
    "print(median(numbers)) # 여기서 number리스트가 정렬됨\n",
    "print(mode(numbers))\n",
    "print(scope(numbers))"
   ]
  },
  {
   "cell_type": "markdown",
   "metadata": {},
   "source": [
    "# 1427번  소트인사이드"
   ]
  },
  {
   "cell_type": "markdown",
   "metadata": {},
   "source": [
    "- 성공한 코드"
   ]
  },
  {
   "cell_type": "code",
   "execution_count": null,
   "metadata": {},
   "outputs": [],
   "source": [
    "n=input()\n",
    "list1=[]\n",
    "for i in range(len(n)):\n",
    "    list1.append(int(n[i]))\n",
    "for k in sorted(list1,reverse=True):\n",
    "    print(k, end='')"
   ]
  },
  {
   "cell_type": "markdown",
   "metadata": {},
   "source": [
    "# 11650 좌표 정렬하기"
   ]
  },
  {
   "cell_type": "markdown",
   "metadata": {},
   "source": [
    "- 성공한 코드"
   ]
  },
  {
   "cell_type": "code",
   "execution_count": null,
   "metadata": {},
   "outputs": [],
   "source": [
    "import sys\n",
    "\n",
    "list1 = []\n",
    "for i in range(int(sys.stdin.readline())):\n",
    "    x, y = map(int, sys.stdin.readline().split())\n",
    "    list1.append([x, y])\n",
    "\n",
    "for i in sorted(list1):\n",
    "    print(i[0], i[1])"
   ]
  },
  {
   "cell_type": "markdown",
   "metadata": {},
   "source": [
    "# 11651 좌표 정렬하기2"
   ]
  },
  {
   "cell_type": "code",
   "execution_count": null,
   "metadata": {},
   "outputs": [],
   "source": [
    "import sys\n",
    "\n",
    "list1 = []\n",
    "for i in range(int(sys.stdin.readline())):\n",
    "    x, y = map(int, sys.stdin.readline().split())\n",
    "    list1.append([y, x]) # 위의 문제하고 여기만 바꿈\n",
    "\n",
    "for i in sorted(list1):\n",
    "    print(i[1], i[0])"
   ]
  },
  {
   "cell_type": "markdown",
   "metadata": {},
   "source": [
    "# 1181번 단어 정렬"
   ]
  },
  {
   "cell_type": "markdown",
   "metadata": {},
   "source": [
    "- 성공한 코드"
   ]
  },
  {
   "cell_type": "code",
   "execution_count": null,
   "metadata": {},
   "outputs": [],
   "source": [
    "import sys\n",
    "\n",
    "dic = {}\n",
    "for i in range(int(sys.stdin.readline())):\n",
    "    str1= sys.stdin.readline().strip()\n",
    "    if str1 in dic:\n",
    "        pass\n",
    "    else:\n",
    "        dic[str1]=len(str1)\n",
    "\n",
    "# sorted 의 기준을 두개 이상 적용 가능\n",
    "# 앞에 쓴거 먼저 적용\n",
    "dic=sorted(dic.items(),key=lambda x:(x[1],x[0]))\n",
    "\n",
    "\n",
    "for i in dic:\n",
    "    print(i[0])"
   ]
  },
  {
   "cell_type": "markdown",
   "metadata": {},
   "source": [
    "# 10814번 나이순 정렬"
   ]
  },
  {
   "cell_type": "markdown",
   "metadata": {},
   "source": [
    "- 틀린 코드; 실패"
   ]
  },
  {
   "cell_type": "code",
   "execution_count": null,
   "metadata": {},
   "outputs": [],
   "source": [
    "import sys\n",
    "\n",
    "dic = {}\n",
    "for i in range(int(sys.stdin.readline())):\n",
    "    age,name= sys.stdin.readline().split()\n",
    "    dic[name]=int(age)\n",
    "\n",
    "\n",
    "dic=sorted(dic.items(),key=lambda x:x[1])\n",
    "\n",
    "for i in dic:\n",
    "    print(i[1],i[0])"
   ]
  },
  {
   "cell_type": "markdown",
   "metadata": {},
   "source": [
    "- ***sorted() 함수는 기본적으로 안정정렬이 아니므로 주의해야 한다.***\n",
    "\n",
    "- 안정정렬: 정렬되지 않은 상태에서 같은 키값을 가진 원소의 순서가 정렬 후에도 유지되는 정렬(https://godgod732.tistory.com/10)"
   ]
  },
  {
   "cell_type": "markdown",
   "metadata": {},
   "source": [
    "- 성공한 코드"
   ]
  },
  {
   "cell_type": "code",
   "execution_count": null,
   "metadata": {},
   "outputs": [],
   "source": [
    "import sys\n",
    "\n",
    "list1=[]\n",
    "dic={}# 나이가 같을 경우 가입한 순서를 저장하기 위한 딕셔너리\n",
    "for i in range(int(sys.stdin.readline())):\n",
    "    age,name= sys.stdin.readline().split()\n",
    "    if int(age) in dic:\n",
    "        dic[int(age)]+=1 \n",
    "        list1.append([int(age), name,dic[int(age)]])\n",
    "    else:\n",
    "        dic[int(age)]=1\n",
    "        list1.append([int(age),name,1])\n",
    "\n",
    "list1=sorted(list1,key=lambda x:(x[0],x[2]))# 나이를 우선 인자로 가입한 순서를 그 다음 인자로 해서 정렬\n",
    "\n",
    "for i in list1:\n",
    "    print(i[0],i[1])"
   ]
  }
 ],
 "metadata": {
  "kernelspec": {
   "display_name": "Python 3",
   "language": "python",
   "name": "python3"
  },
  "language_info": {
   "codemirror_mode": {
    "name": "ipython",
    "version": 3
   },
   "file_extension": ".py",
   "mimetype": "text/x-python",
   "name": "python",
   "nbconvert_exporter": "python",
   "pygments_lexer": "ipython3",
   "version": "3.8.3"
  }
 },
 "nbformat": 4,
 "nbformat_minor": 4
}
