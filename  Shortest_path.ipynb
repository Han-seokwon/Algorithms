{
 "cells": [
  {
   "cell_type": "markdown",
   "metadata": {},
   "source": [
    "# Shortest path"
   ]
  },
  {
   "cell_type": "markdown",
   "metadata": {},
   "source": [
    "# 1753 번 최단경로"
   ]
  },
  {
   "cell_type": "markdown",
   "metadata": {},
   "source": [
    "- 메모리 초과"
   ]
  },
  {
   "cell_type": "code",
   "execution_count": null,
   "metadata": {},
   "outputs": [],
   "source": [
    "import sys\n",
    "import collections as col\n",
    "\n",
    "INF = 99\n",
    "# weight는 최대 10까지\n",
    "\n",
    "node, line = map(int, sys.stdin.readline().split())\n",
    "start_node = int(sys.stdin.readline()) - 1\n",
    "weight_graph = [[INF]*node for i in range(node)]\n",
    "\n",
    "for i in range(line): # 인접 행렬 사용\n",
    "    u, v, w= map(int, sys.stdin.readline().split())\n",
    "    weight_graph[u - 1][v - 1] = w\n",
    "\n",
    "# for i in range(node):\n",
    "#     print(weight_graph[i])\n",
    "\n",
    "def Dijkstra(weight_graph, start_node):\n",
    "    dist= weight_graph[start_node]\n",
    "    dist[start_node] = 0 # 시작점은 0으로\n",
    "    found_path=[False]*node # 최단 경로를 찾은 경우 True\n",
    "    found_path[start_node] = True\n",
    "\n",
    "    for i in range(node-1):\n",
    "        # print(dist)\n",
    "        # 가장 가까운 노드를 찾음\n",
    "        min_w = INF\n",
    "        closest_node = -1\n",
    "        for j in range(node):\n",
    "            if found_path[j] == False and dist[j] < min_w:\n",
    "                min_w = dist[j]\n",
    "                closest_node = j\n",
    "        found_path[closest_node] = True\n",
    "\n",
    "        # dist 갱신\n",
    "        for u in range(node):\n",
    "            if found_path[u] == False:\n",
    "                if dist[closest_node] + weight_graph[closest_node][u] < dist[u]:\n",
    "                    dist[u] = dist[closest_node] + weight_graph[closest_node][u]\n",
    "\n",
    "    return dist\n",
    "\n",
    "for i in Dijkstra(weight_graph, start_node):\n",
    "    if i > 10:\n",
    "        print('INF')\n",
    "    else:\n",
    "        print(i)\n"
   ]
  },
  {
   "cell_type": "markdown",
   "metadata": {},
   "source": [
    "- 틀려습니다"
   ]
  },
  {
   "cell_type": "code",
   "execution_count": null,
   "metadata": {},
   "outputs": [],
   "source": [
    "import sys\n",
    "import heapq\n",
    "\n",
    "INF = 99\n",
    "# weight는 최대 10까지\n",
    "\n",
    "node, line = map(int, sys.stdin.readline().split())\n",
    "start_node = int(sys.stdin.readline()) - 1\n",
    "\n",
    "\n",
    "weight_graph = [[] for i in range(node)]\n",
    "\n",
    "for i in range(line): # 인접 리스트\n",
    "    u, v, w= map(int, sys.stdin.readline().split())\n",
    "    weight_graph[u-1].append((v-1, w))\n",
    "\n",
    "def Dijkstra(weight_graph, start_node):\n",
    "\n",
    "    dist = [INF] * node # 시작점에서 각 노드까지의 거리를 담은 리스트\n",
    "    dist[start_node] = 0\n",
    "\n",
    "    queue =[]\n",
    "    heapq.heappush(queue, (dist[start_node], start_node))\n",
    "\n",
    "    while queue:\n",
    "        distance, target_node = heapq.heappop(queue) # 시작 노드에서 현재 타겟 노드까지 거리, 현재 타겟노드\n",
    "\n",
    "        if dist[target_node] < distance: #\n",
    "            continue\n",
    "\n",
    "        for new_node, new_distance in weight_graph[target_node]:\n",
    "            added_distance = distance + new_distance # 시작 노드에서 현재 타겟 노드까지 거리 + 현재 타겟 노드에서 새로운 노드까지 거리\n",
    "            if added_distance < dist[new_node]: #새로운 노드까지 길이가 dist에 입력된 거리보다 짧다면\n",
    "                dist[new_node] = added_distance # dist 갱신\n",
    "                heapq.heappush(queue, (added_distance, new_node)) # 큐에 psuh\n",
    "\n",
    "    return dist\n",
    "\n",
    "for i in Dijkstra(weight_graph, start_node):\n",
    "    if i > 10:\n",
    "        print('INF')\n",
    "    else:\n",
    "        print(i)\n"
   ]
  },
  {
   "cell_type": "markdown",
   "metadata": {},
   "source": [
    "- 틀려습니다"
   ]
  },
  {
   "cell_type": "code",
   "execution_count": null,
   "metadata": {},
   "outputs": [],
   "source": [
    "import sys\n",
    "import heapq\n",
    "\n",
    "INF = 99\n",
    "# weight는 최대 10까지\n",
    "\n",
    "node, line = map(int, sys.stdin.readline().split())\n",
    "start_node = int(sys.stdin.readline()) - 1\n",
    "\n",
    "weight_graph = [set([]) for i in range(node)]\n",
    "\n",
    "for i in range(line): # 인접 리스트\n",
    "    u, v, w= map(int, sys.stdin.readline().split())\n",
    "    weight_graph[u-1].add((v-1, w))\n",
    "    weight_graph[v-1].add((u-1, w))\n",
    "\n",
    "\n",
    "def Dijkstra(weight_graph, start_node):\n",
    "\n",
    "    dist = [INF] * node # 시작점에서 각 노드까지의 거리를 담은 리스트\n",
    "    dist[start_node] = 0\n",
    "    \n",
    "    queue =[]\n",
    "    \n",
    "    heapq.heappush(queue, (dist[start_node], start_node))\n",
    "    \n",
    "    while queue:\n",
    "        # 최소힙이므로 가장 가까운 노드부터 탐색\n",
    "\n",
    "        distance, target_node = heapq.heappop(queue) # 시작 노드에서 현재 타겟 노드까지 거리, 현재 타겟노드\n",
    "        \n",
    "        \n",
    "        if dist[target_node] < distance: #\n",
    "            continue\n",
    "\n",
    "        for new_node, new_distance in weight_graph[target_node]:\n",
    "            added_distance = distance + new_distance # 시작 노드에서 현재 타겟 노드까지 거리 + 현재 타겟 노드에서 새로운 노드까지 거리\n",
    "            if added_distance < dist[new_node]: #새로운 노드까지 길이가 dist에 입력된 거리보다 짧다면\n",
    "                dist[new_node] = added_distance # dist 갱신\n",
    "                heapq.heappush(queue, (added_distance, new_node)) # 큐에 push\n",
    "\n",
    "    return dist\n",
    "\n",
    "for i in Dijkstra(weight_graph, start_node):\n",
    "\n",
    "    if i > 10:\n",
    "        print('INF')\n",
    "    else:\n",
    "        print(i)\n",
    "\n"
   ]
  }
 ],
 "metadata": {
  "kernelspec": {
   "display_name": "Python 3",
   "language": "python",
   "name": "python3"
  },
  "language_info": {
   "codemirror_mode": {
    "name": "ipython",
    "version": 3
   },
   "file_extension": ".py",
   "mimetype": "text/x-python",
   "name": "python",
   "nbconvert_exporter": "python",
   "pygments_lexer": "ipython3",
   "version": "3.8.3"
  }
 },
 "nbformat": 4,
 "nbformat_minor": 4
}
