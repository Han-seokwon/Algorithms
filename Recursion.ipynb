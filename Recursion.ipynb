{
 "cells": [
  {
   "cell_type": "markdown",
   "metadata": {},
   "source": [
    "# 재귀"
   ]
  },
  {
   "cell_type": "markdown",
   "metadata": {},
   "source": [
    "# 팩토리얼"
   ]
  },
  {
   "cell_type": "code",
   "execution_count": null,
   "metadata": {},
   "outputs": [],
   "source": [
    "import sys\n",
    "def fac(n):\n",
    "    if n==0:\n",
    "        return 1\n",
    "    elif n<=2:\n",
    "        return n\n",
    "    else:\n",
    "        return n*fac(n-1)\n",
    "\n",
    "print(fac(int(sys.stdin.readline())))"
   ]
  },
  {
   "cell_type": "markdown",
   "metadata": {},
   "source": [
    "# 피보나치 5"
   ]
  },
  {
   "cell_type": "code",
   "execution_count": null,
   "metadata": {},
   "outputs": [],
   "source": [
    "import sys\n",
    "def fib(n):\n",
    "    if n<=1:\n",
    "        return n\n",
    "    else:\n",
    "        return fib(n-1)+fib(n-2)\n",
    "\n",
    "print(fib(int(sys.stdin.readline())))"
   ]
  },
  {
   "cell_type": "markdown",
   "metadata": {},
   "source": [
    "# 별 찍기 - 10"
   ]
  },
  {
   "cell_type": "code",
   "execution_count": null,
   "metadata": {},
   "outputs": [],
   "source": [
    "import sys\n",
    "\n",
    "def star(n):\n",
    "    if n==1:\n",
    "        return [['*']]\n",
    "    else:\n",
    "        grid=[0]*n\n",
    "        wid=int(n/3)\n",
    "        sta=star(wid)\n",
    "        for i in range(n):\n",
    "            if i>=wid and i<wid*2:\n",
    "                grid[i] = sta[i % wid] + [' ']*wid + sta[i % wid]\n",
    "            else:\n",
    "                grid[i]=sta[i%wid]*3\n",
    "\n",
    "        return grid\n",
    "\n",
    "for i in star(int(sys.stdin.readline())):\n",
    "    for j in range(len(i)):\n",
    "        print(i[j],end='')\n",
    "    print()"
   ]
  },
  {
   "cell_type": "code",
   "execution_count": null,
   "metadata": {},
   "outputs": [],
   "source": []
  },
  {
   "cell_type": "code",
   "execution_count": null,
   "metadata": {},
   "outputs": [],
   "source": []
  },
  {
   "cell_type": "code",
   "execution_count": null,
   "metadata": {},
   "outputs": [],
   "source": []
  }
 ],
 "metadata": {
  "kernelspec": {
   "display_name": "Python 3",
   "language": "python",
   "name": "python3"
  },
  "language_info": {
   "codemirror_mode": {
    "name": "ipython",
    "version": 3
   },
   "file_extension": ".py",
   "mimetype": "text/x-python",
   "name": "python",
   "nbconvert_exporter": "python",
   "pygments_lexer": "ipython3",
   "version": "3.8.3"
  }
 },
 "nbformat": 4,
 "nbformat_minor": 4
}
