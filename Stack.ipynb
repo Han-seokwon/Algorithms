{
 "cells": [
  {
   "cell_type": "markdown",
   "metadata": {},
   "source": [
    "# 스택"
   ]
  },
  {
   "cell_type": "markdown",
   "metadata": {},
   "source": [
    "# 10828 번"
   ]
  },
  {
   "cell_type": "markdown",
   "metadata": {},
   "source": [
    "- 성공한 코드"
   ]
  },
  {
   "cell_type": "code",
   "execution_count": null,
   "metadata": {},
   "outputs": [],
   "source": [
    "import sys\n",
    "\n",
    "\n",
    "class Stack: # 스택 클래스 이용\n",
    "\n",
    "    def __init__(self):\n",
    "        self.item = []\n",
    "\n",
    "    def empty(self):\n",
    "        if  len(self.item) ==0:\n",
    "            return 1\n",
    "        else:\n",
    "            return 0\n",
    "    def size(self):\n",
    "        return len(self.item)\n",
    "\n",
    "    def clear(self):\n",
    "        self.item = []\n",
    "\n",
    "    def push(self, elem):\n",
    "        self.item.append(elem)\n",
    "\n",
    "    def pop(self):\n",
    "        if self.empty() ==0:\n",
    "            return self.item.pop(-1)\n",
    "        else:\n",
    "            return -1\n",
    "\n",
    "    def top(self):\n",
    "        if not self.empty():\n",
    "            return self.item[-1]\n",
    "        else:\n",
    "            return -1\n",
    "\n",
    "\n",
    "s=Stack()\n",
    "for i in range(int(sys.stdin.readline())):\n",
    "    str1= sys.stdin.readline().split()\n",
    "    if len(str1)==1:\n",
    "\n",
    "        if str1[0] == 'top':\n",
    "            print(s.top())\n",
    "\n",
    "        elif str1[0] == 'size':\n",
    "            print(s.size())\n",
    "\n",
    "        elif str1[0] == 'empty':\n",
    "            print(s.empty())\n",
    "\n",
    "        elif str1[0] == 'pop':\n",
    "            print(s.pop())\n",
    "\n",
    "    else:\n",
    "        s.push(int(str1[1]))\n"
   ]
  },
  {
   "cell_type": "markdown",
   "metadata": {},
   "source": [
    "# 10773 번"
   ]
  },
  {
   "cell_type": "markdown",
   "metadata": {},
   "source": [
    "- 성공한 코드"
   ]
  },
  {
   "cell_type": "code",
   "execution_count": null,
   "metadata": {},
   "outputs": [],
   "source": [
    "import sys\n",
    "\n",
    "a=[]\n",
    "for i in range(int(sys.stdin.readline())):\n",
    "    num= int(sys.stdin.readline())\n",
    "    if num==0:\n",
    "        a.pop()\n",
    "    else:\n",
    "        a.append(num)\n",
    "\n",
    "sum1=0\n",
    "for i in range(len(a)):\n",
    "    sum1+=a[i]\n",
    "    \n",
    "print(sum1)"
   ]
  },
  {
   "cell_type": "markdown",
   "metadata": {},
   "source": [
    "# 9012 번"
   ]
  },
  {
   "cell_type": "markdown",
   "metadata": {},
   "source": [
    "- 성공한 코드"
   ]
  },
  {
   "cell_type": "code",
   "execution_count": null,
   "metadata": {},
   "outputs": [],
   "source": [
    "import sys\n",
    "\n",
    "def isVPS(str1):\n",
    "    stack=[]\n",
    "    for i in str1:\n",
    "        if i == '(':\n",
    "            stack.append(i)\n",
    "        if i == ')':\n",
    "            if len(stack)==0: # ')' 가 하나 이상 더 있는 경우\n",
    "                return 'NO'\n",
    "            else:\n",
    "                stack.pop()\n",
    "    if len(stack)==0:\n",
    "        return 'YES'\n",
    "    else: # '('가 하나 이상 더 있는 경우\n",
    "        return 'NO'\n",
    "\n",
    "for i in range(int(sys.stdin.readline())):\n",
    "    str1= sys.stdin.readline()\n",
    "    print(isVPS(str1))"
   ]
  },
  {
   "cell_type": "markdown",
   "metadata": {},
   "source": [
    "# 4949"
   ]
  },
  {
   "cell_type": "markdown",
   "metadata": {},
   "source": [
    "- 성공한 코드"
   ]
  },
  {
   "cell_type": "code",
   "execution_count": null,
   "metadata": {},
   "outputs": [],
   "source": [
    "import sys\n",
    "\n",
    "def isBracket(str1):\n",
    "    stack=[]\n",
    "    bracket_start=['(','[','{']\n",
    "    bracket_end=[')',']','}']\n",
    "    for i in str1:\n",
    "        if i in bracket_start:\n",
    "            stack.append(i)\n",
    "        elif i in bracket_end:\n",
    "            if len(stack)==0:\n",
    "                return 'no'\n",
    "            else:\n",
    "                if i == '}' and stack[-1] != '{':\n",
    "                    return 'no'\n",
    "                elif i == ']' and stack[-1] != '[':\n",
    "                    return 'no'\n",
    "                elif i == ')' and stack[-1] != '(':\n",
    "                    return 'no'\n",
    "                else:\n",
    "                    stack.pop()\n",
    "    if len(stack)==0:\n",
    "        return 'yes'\n",
    "    else:\n",
    "        return 'no'\n",
    "\n",
    "while True:\n",
    "    str1= sys.stdin.readline()\n",
    "    if str1=='.\\n':\n",
    "        break\n",
    "    print(isBracket(str1))"
   ]
  },
  {
   "cell_type": "markdown",
   "metadata": {},
   "source": [
    "# 1874"
   ]
  },
  {
   "cell_type": "markdown",
   "metadata": {},
   "source": [
    "- 성공한 코드"
   ]
  },
  {
   "cell_type": "code",
   "execution_count": null,
   "metadata": {},
   "outputs": [],
   "source": [
    "import sys\n",
    "\n",
    "list1 = [] # 입력된 수열을 저장하는 리스트\n",
    "num1=int(sys.stdin.readline())\n",
    "for i in range(num1):  # 입력된 리스트 stack에 저장\n",
    "    a=int(sys.stdin.readline())\n",
    "    list1.append(a)\n",
    "\n",
    "is_sequence = True # 수열을 만들 수 있는지 여부\n",
    "answer=[]  # +, - 를 저장하는 리스트\n",
    "\n",
    "def is_stack_make_sequence(list1):\n",
    "    stack1 = []  # 1~n까지 순서대로 push, pop하는 스택\n",
    "    cnt=1 # stack1의 원소를 오름차순으로 해주는 기준 변수\n",
    "    global is_sequence\n",
    "    for i in list1: # list1의 입력된 수열을 순서대로 꺼내기 \n",
    "        # i는 입력된 수열에서 꺼낸 원소\n",
    "        \n",
    "        if i>=cnt: # 만약 i가 cnt보다 크거나 같으면\n",
    "            while i>=cnt: # i가 cnt보다 작을 때까지\n",
    "                stack1.append(cnt) # 스택에 cnt push\n",
    "                answer.append('+') # 정답리스트에 + 추가\n",
    "                cnt+=1 # 기준 +1\n",
    "                \n",
    "        poped=stack1.pop() # 스택에서 pop\n",
    "        answer.append('-') # 정답리스트에 - 추가\n",
    "        if poped != i: # 만약 스택에서 꺼낸 원소가 수열의 원소가 다를 경우\n",
    "            # 입력된 수열을 구현할 수 없음\n",
    "            is_sequence=False\n",
    "            break\n",
    "\n",
    "is_stack_make_sequence(list1)\n",
    "if is_sequence == True: # 출력\n",
    "    for i in answer:\n",
    "        print(i)\n",
    "else:\n",
    "    print('NO')"
   ]
  }
 ],
 "metadata": {
  "kernelspec": {
   "display_name": "Python 3",
   "language": "python",
   "name": "python3"
  },
  "language_info": {
   "codemirror_mode": {
    "name": "ipython",
    "version": 3
   },
   "file_extension": ".py",
   "mimetype": "text/x-python",
   "name": "python",
   "nbconvert_exporter": "python",
   "pygments_lexer": "ipython3",
   "version": "3.8.3"
  }
 },
 "nbformat": 4,
 "nbformat_minor": 4
}
