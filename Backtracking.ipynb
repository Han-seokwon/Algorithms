{
 "cells": [
  {
   "cell_type": "markdown",
   "metadata": {},
   "source": [
    "# Backtracking (백트래킹)"
   ]
  },
  {
   "cell_type": "markdown",
   "metadata": {},
   "source": [
    "주요 개념은 해를 얻을 때까지 모든 가능성을 시도한다는 점이다. 모든 가능성은 하나의 트리처럼 구성할 수 있으며, 가지 중에 해결책이 있다. 트리를 검사하기 위해 깊이 우선 탐색을 사용한다. 탐색 중에 오답을 만나면 이전 분기점으로 돌아간다. 시도해보지 않은 다른 해결 방법이 있으면 시도한다. 해결 방법이 더 없으면 더 이전의 분기점으로 돌아간다. 모든 트리의 노드를 검사해도 답을 못 찾을 경우, 이 문제의 해결책은 없는 것이다."
   ]
  },
  {
   "cell_type": "markdown",
   "metadata": {},
   "source": [
    "위키 백과\n",
    "https://ko.wikipedia.org/wiki/%ED%87%B4%EA%B0%81%EA%B2%80%EC%83%89"
   ]
  },
  {
   "cell_type": "markdown",
   "metadata": {},
   "source": [
    "***N Queen 문제***\n",
    "- https://idea-sketch.tistory.com/29"
   ]
  },
  {
   "cell_type": "markdown",
   "metadata": {},
   "source": [
    "# 백트래킹"
   ]
  },
  {
   "cell_type": "markdown",
   "metadata": {},
   "source": [
    "# 15649번 N과 M"
   ]
  },
  {
   "cell_type": "markdown",
   "metadata": {},
   "source": [
    "- 성공한 코드"
   ]
  },
  {
   "cell_type": "code",
   "execution_count": null,
   "metadata": {},
   "outputs": [],
   "source": [
    "import sys\n",
    "\n",
    "a=[]\n",
    "def back(n,m):\n",
    "    if len(a)==m:\n",
    "        for i in a:\n",
    "            print(i, end=' ')\n",
    "        print()\n",
    "        a.pop()\n",
    "    else:\n",
    "        for i in range(n):\n",
    "            if i+1 not in a:\n",
    "                a.append(i+1)\n",
    "                back(n,m) # 순환\n",
    "        if len(a)>0:\n",
    "            a.pop()\n",
    "\n",
    "n,m=map(int,sys.stdin.readline().split())\n",
    "back(n,m)"
   ]
  },
  {
   "cell_type": "markdown",
   "metadata": {},
   "source": [
    "# N과 M (2)"
   ]
  },
  {
   "cell_type": "code",
   "execution_count": null,
   "metadata": {},
   "outputs": [],
   "source": [
    "import sys\n",
    "\n",
    "a=[]\n",
    "def back(n,m):\n",
    "    if len(a)==m:\n",
    "        for i in a:\n",
    "            print(i, end=' ')\n",
    "        print()\n",
    "        a.pop()\n",
    "    else:\n",
    "        for i in range(n):\n",
    "            if i+1 not in a:\n",
    "                if len(a)==0:\n",
    "                    a.append(i+1)\n",
    "                    back(n,m)\n",
    "                elif len(a)>=1 and a[-1]<i+1:\n",
    "                    a.append(i + 1)\n",
    "                    back(n, m)\n",
    "\n",
    "        if len(a)>0:\n",
    "            a.pop()\n",
    "\n",
    "n,m=map(int,sys.stdin.readline().split())\n",
    "back(n,m)\n"
   ]
  },
  {
   "cell_type": "markdown",
   "metadata": {},
   "source": [
    "# N과 M (3)"
   ]
  },
  {
   "cell_type": "code",
   "execution_count": null,
   "metadata": {},
   "outputs": [],
   "source": [
    "import sys\n",
    "\n",
    "a=[]\n",
    "def back(n,m):\n",
    "    if len(a)==m:\n",
    "        for i in a:\n",
    "            print(i, end=' ')\n",
    "        print()\n",
    "        a.pop()\n",
    "    else:\n",
    "        for i in range(n):\n",
    "            a.append(i + 1)\n",
    "            back(n, m)\n",
    "\n",
    "        if len(a)>0:\n",
    "            a.pop()\n",
    "\n",
    "n,m=map(int,sys.stdin.readline().split())\n",
    "back(n,m)"
   ]
  },
  {
   "cell_type": "markdown",
   "metadata": {},
   "source": [
    "# N과 M (4)"
   ]
  },
  {
   "cell_type": "code",
   "execution_count": null,
   "metadata": {},
   "outputs": [],
   "source": [
    "import sys\n",
    "\n",
    "a=[]\n",
    "def back(n,m):\n",
    "    if len(a)==m:\n",
    "        for i in a:\n",
    "            print(i, end=' ')\n",
    "        print()\n",
    "        a.pop()\n",
    "    else:\n",
    "        for i in range(n):\n",
    "            if len(a)==0:\n",
    "                a.append(i + 1)\n",
    "                back(n, m)\n",
    "            elif len(a)>=1 and a[-1]<=i+1:\n",
    "                a.append(i + 1)\n",
    "                back(n, m)\n",
    "\n",
    "        if len(a)>0:\n",
    "            a.pop()\n",
    "\n",
    "n,m=map(int,sys.stdin.readline().split())\n",
    "back(n,m)"
   ]
  },
  {
   "cell_type": "markdown",
   "metadata": {},
   "source": [
    "# N Queen"
   ]
  },
  {
   "cell_type": "markdown",
   "metadata": {},
   "source": [
    "- 시간초과된 코드; 실패"
   ]
  },
  {
   "cell_type": "code",
   "execution_count": null,
   "metadata": {},
   "outputs": [],
   "source": [
    "import sys\n",
    "\n",
    "cnt=0\n",
    "\n",
    "def attack_zone(x, y):\n",
    "    global a\n",
    "\n",
    "    for i in range(n):\n",
    "        a[x][i] = False\n",
    "        a[i][y] = False\n",
    "\n",
    "        if (x - i) >= 0 and (y - i) >= 0:\n",
    "            a[(x - i)][(y - i)] = False\n",
    "\n",
    "        if (x + i) <= n - 1 and (y + i) <= n - 1:\n",
    "            a[(x + i)][(y + i)] = False\n",
    "\n",
    "        if (x - i) >= 0 and (y + i) <= n - 1:\n",
    "            a[(x - i)][(y + i)] = False\n",
    "\n",
    "        if (x + i) <= n - 1 and (y - i) >= 0:\n",
    "            a[(x + i)][(y - i)] = False\n",
    "\n",
    "def reset(queen_spot):\n",
    "    global a\n",
    "    for i in range(n):\n",
    "        for j in range(n):\n",
    "            a[i][j] = True\n",
    "    for i in queen_spot:\n",
    "        attack_zone(i[0],i[1])\n",
    "\n",
    "\n",
    "def N_queen(n):\n",
    "    global cnt\n",
    "\n",
    "    x1=0\n",
    "    y1=0\n",
    "    if len(queen_spot)>0:\n",
    "        x1=queen_spot[-1][0]\n",
    "        y1 = queen_spot[-1][1]\n",
    "\n",
    "    for i in range(x1,n):\n",
    "        for j in range(y1,n):\n",
    "            if len(queen_spot)==0:\n",
    "                attack_zone(i,j)\n",
    "                queen_spot.append((i,j))\n",
    "                N_queen(n)\n",
    "            elif len(queen_spot)>0 and a[i][j]==True:\n",
    "                attack_zone(i, j)\n",
    "                queen_spot.append((i, j))\n",
    "\n",
    "                if len(queen_spot)==n:\n",
    "                    cnt+=1\n",
    "                    queen_spot.pop()\n",
    "                    reset(queen_spot)\n",
    "\n",
    "                else:\n",
    "\n",
    "                    N_queen(n)\n",
    "            y1=0\n",
    "\n",
    "    if len(queen_spot)>0:\n",
    "        queen_spot.pop()\n",
    "        reset(queen_spot)\n",
    "\n",
    "n=int(sys.stdin.readline())\n",
    "a = [[True] * n for i in range(n)]\n",
    "queen_spot=[]\n",
    "N_queen(n)\n",
    "print(cnt)\n",
    "\n"
   ]
  },
  {
   "cell_type": "markdown",
   "metadata": {},
   "source": [
    "- 2번째 시간초과된 코드; 실패"
   ]
  },
  {
   "cell_type": "code",
   "execution_count": null,
   "metadata": {},
   "outputs": [],
   "source": [
    "\n",
    "cnt=0\n",
    "def attack_zone(x, y):\n",
    "    global a\n",
    "    t = len(queen_spot)\n",
    "    for i in range(n):\n",
    "        if a[x][i] == -1:\n",
    "            a[x][i] = t\n",
    "        if a[i][y] == -1:\n",
    "            a[i][y] = t\n",
    "\n",
    "        # 북서\n",
    "        if (x - i) >= 0 and (y - i) >= 0:\n",
    "            if a[(x - i)][(y - i)] == -1:\n",
    "                a[(x - i)][(y - i)] = t\n",
    "        # 남동\n",
    "        if (x + i) <= n - 1 and (y + i) <= n - 1:\n",
    "            if a[(x + i)][(y + i)] == -1:\n",
    "                a[(x + i)][(y + i)] = t\n",
    "        # 북동\n",
    "        if (x - i) >= 0 and (y + i) <= n - 1:\n",
    "            if a[(x - i)][(y + i)] == -1:\n",
    "                a[(x - i)][(y + i)] = t\n",
    "        # 남서\n",
    "        if (x + i) <= n - 1 and (y - i) >= 0:\n",
    "            if a[(x + i)][(y - i)] == -1:\n",
    "                a[(x + i)][(y - i)] = t\n",
    "\n",
    "\n",
    "def reset(queen_spot):\n",
    "    global a\n",
    "    t=len(queen_spot)\n",
    "    for i in range(n):\n",
    "        for j in range(n):\n",
    "            if a[i][j] == t:\n",
    "                a[i][j] = -1\n",
    "\n",
    "\n",
    "\n",
    "\n",
    "\n",
    "def N_queen(n):\n",
    "    global cnt\n",
    "\n",
    "    x1=0\n",
    "    y1=0\n",
    "    if len(queen_spot)>0:\n",
    "        x1=queen_spot[-1][0]\n",
    "        y1 = queen_spot[-1][1]\n",
    "\n",
    "    for i in range(x1,n):\n",
    "        for j in range(y1,n):\n",
    "            if len(queen_spot)==0:\n",
    "                attack_zone(i,j)\n",
    "                queen_spot.append((i,j))\n",
    "                N_queen(n)\n",
    "            elif len(queen_spot)>0 and a[i][j]==-1:\n",
    "                attack_zone(i, j)\n",
    "                queen_spot.append((i, j))\n",
    "                if len(queen_spot)==n:\n",
    "\n",
    "                    cnt+=1\n",
    "                    queen_spot.pop()\n",
    "                    reset(queen_spot)\n",
    "                else:\n",
    "                    N_queen(n)\n",
    "            y1=0\n",
    "\n",
    "    if len(queen_spot)>0:\n",
    "        queen_spot.pop()\n",
    "        reset(queen_spot)\n",
    "\n",
    "\n",
    "\n",
    "n = int(sys.stdin.readline())\n",
    "a = [[-1] * n for i in range(n)]\n",
    "queen_spot = []\n",
    "N_queen(n)\n",
    "print(cnt)"
   ]
  },
  {
   "cell_type": "markdown",
   "metadata": {},
   "source": [
    "- 3번째 시간초과된 코드; 실패"
   ]
  },
  {
   "cell_type": "code",
   "execution_count": null,
   "metadata": {},
   "outputs": [],
   "source": [
    "import sys\n",
    "import time\n",
    "start=time.time()\n",
    "\n",
    "cnt=0\n",
    "def attack_zone(x, y):\n",
    "\n",
    "    a=[]\n",
    "    for i in grid[-1]:\n",
    "        a.append(i[:])\n",
    "    t = len(queen_spot)\n",
    "    for i in range(n):\n",
    "        if a[x][i] == -1:\n",
    "            a[x][i] = t\n",
    "        if a[i][y] == -1:\n",
    "            a[i][y] = t\n",
    "\n",
    "        # 북서\n",
    "        if (x - i) >= 0 and (y - i) >= 0:\n",
    "            if a[(x - i)][(y - i)] == -1:\n",
    "                a[(x - i)][(y - i)] = t\n",
    "        # 남동\n",
    "        if (x + i) <= n - 1 and (y + i) <= n - 1:\n",
    "            if a[(x + i)][(y + i)] == -1:\n",
    "                a[(x + i)][(y + i)] = t\n",
    "        # 북동\n",
    "        if (x - i) >= 0 and (y + i) <= n - 1:\n",
    "            if a[(x - i)][(y + i)] == -1:\n",
    "                a[(x - i)][(y + i)] = t\n",
    "        # 남서\n",
    "        if (x + i) <= n - 1 and (y - i) >= 0:\n",
    "            if a[(x + i)][(y - i)] == -1:\n",
    "                a[(x + i)][(y - i)] = t\n",
    "\n",
    "    grid.append(a)\n",
    "\n",
    "\n",
    "\n",
    "def N_queen(n):\n",
    "    global cnt\n",
    "    global grid\n",
    "    x1=0\n",
    "    y1=0\n",
    "    if len(queen_spot)>0:\n",
    "        x1=queen_spot[-1][0]\n",
    "        y1 = queen_spot[-1][1]+1\n",
    "\n",
    "    for i in range(x1,n):\n",
    "        for j in range(y1,n):\n",
    "            if len(queen_spot)==0:\n",
    "                attack_zone(i,j)\n",
    "                queen_spot.append((i,j))\n",
    "                N_queen(n)\n",
    "            elif len(queen_spot)>0 and grid[-1][i][j]==-1:\n",
    "                if len(queen_spot)==n-1:\n",
    "                    cnt+=1\n",
    "                else:\n",
    "                    attack_zone(i, j)\n",
    "                    queen_spot.append((i, j))\n",
    "                    N_queen(n)\n",
    "        y1=0\n",
    "\n",
    "    if len(queen_spot)>0:\n",
    "        queen_spot.pop()\n",
    "        grid.pop()\n",
    "\n",
    "\n",
    "\n",
    "\n",
    "n = int(sys.stdin.readline())\n",
    "board = [[-1] * n for i in range(n)]\n",
    "grid=[board]\n",
    "queen_spot = []\n",
    "N_queen(n)\n",
    "print(cnt)\n",
    "\n",
    "print(time.time()-start)"
   ]
  },
  {
   "cell_type": "markdown",
   "metadata": {},
   "source": [
    "- 나중에 다시 도전해보기"
   ]
  }
 ],
 "metadata": {
  "kernelspec": {
   "display_name": "Python 3",
   "language": "python",
   "name": "python3"
  },
  "language_info": {
   "codemirror_mode": {
    "name": "ipython",
    "version": 3
   },
   "file_extension": ".py",
   "mimetype": "text/x-python",
   "name": "python",
   "nbconvert_exporter": "python",
   "pygments_lexer": "ipython3",
   "version": "3.8.3"
  }
 },
 "nbformat": 4,
 "nbformat_minor": 4
}
