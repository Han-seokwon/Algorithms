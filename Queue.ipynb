{
 "cells": [
  {
   "cell_type": "markdown",
   "metadata": {},
   "source": [
    "# 큐"
   ]
  },
  {
   "cell_type": "markdown",
   "metadata": {},
   "source": [
    "# 18258번"
   ]
  },
  {
   "cell_type": "markdown",
   "metadata": {},
   "source": [
    "- 시간초과된 코드; 실패"
   ]
  },
  {
   "cell_type": "code",
   "execution_count": null,
   "metadata": {},
   "outputs": [],
   "source": [
    "# 문제 연산 당 시간 복잡도가 O(1)이어야 함\n",
    "# 원형 큐 이용\n",
    "import sys\n",
    "\n",
    "QUEUE_SIZE=20000000 # 큐 안에 2,000,000개의 요소가 저장될 수 있음\n",
    "\n",
    "class circular_queue():\n",
    "    def __init__(self):\n",
    "        self.queue=[None]*QUEUE_SIZE\n",
    "        self.end = 0 # 큐의 맨 뒷 부분\n",
    "        self.start = 0 # 큐의 맨 앞부분\n",
    "\n",
    "    def queue_push(self, ele): # 큐가 가득 차는 일은 없다고 가정\n",
    "        self.end= (self.end + 1) % QUEUE_SIZE\n",
    "        self.queue[self.end] = ele\n",
    "\n",
    "    def queue_pop(self):\n",
    "        if self.queue_empty():\n",
    "            return -1\n",
    "        else:\n",
    "            self.start = (self.start + 1) % QUEUE_SIZE\n",
    "            return self.queue[self.start]\n",
    "    def queue_size(self):\n",
    "        if self.end > self.start:\n",
    "            return self.end - self.start\n",
    "        else:\n",
    "            return self.start - self.end\n",
    "    def queue_empty(self):\n",
    "        if self.queue_size() == 0:\n",
    "            return 1\n",
    "        else:\n",
    "            return 0\n",
    "    def queue_front(self):\n",
    "        if self.queue_empty():\n",
    "            return -1\n",
    "        else:\n",
    "            return self.queue[self.start+1]\n",
    "    def queue_back(self):\n",
    "        if self.queue_empty():\n",
    "            return -1\n",
    "        else:\n",
    "            return self.queue[self.end]\n",
    "\n",
    "c=circular_queue()\n",
    "for i in range(int(sys.stdin.readline())):\n",
    "    str1 = sys.stdin.readline().split()\n",
    "    if len(str1)==2: # push하는 경우밖에 없음\n",
    "        c.queue_push(int(str1[1]))\n",
    "    else:\n",
    "        if str1[0]=='pop':\n",
    "            print(c.queue_pop())\n",
    "        elif str1[0]=='size':\n",
    "            print(c.queue_size())\n",
    "        elif str1[0]=='empty':\n",
    "            print(c.queue_empty())\n",
    "        elif str1[0]=='front':\n",
    "            print(c.queue_front())\n",
    "        elif str1[0]=='back':\n",
    "            print(c.queue_back())\n",
    "\n"
   ]
  },
  {
   "cell_type": "markdown",
   "metadata": {},
   "source": [
    "- 성공한 코드"
   ]
  },
  {
   "cell_type": "code",
   "execution_count": null,
   "metadata": {},
   "outputs": [],
   "source": [
    "# 문제 연산 당 시간 복잡도가 O(1)이어야 함\n",
    "# collections 모듈 이용\n",
    "import sys\n",
    "import collections as col\n",
    "\n",
    "queue=col.deque() # deque는 양쪽 끝에서 append와 pop을 실행하면 O(1)이다.\n",
    "\n",
    "for i in range(int(sys.stdin.readline())):\n",
    "    str1 = sys.stdin.readline().split()\n",
    "    if len(str1)==2: # push하는 경우밖에 없음\n",
    "        queue.append(str1[1])\n",
    "    else:\n",
    "        if str1[0]=='pop':\n",
    "            if len(queue) ==0:\n",
    "                print(-1)\n",
    "            else:\n",
    "                print(queue.popleft())\n",
    "        elif str1[0]=='size':\n",
    "            print(len(queue))\n",
    "        elif str1[0]=='empty':\n",
    "            if len(queue) ==0:\n",
    "                print(1)\n",
    "            else:\n",
    "                print(0)\n",
    "        elif str1[0]=='front':\n",
    "            if len(queue) ==0:\n",
    "                print(-1)\n",
    "            else:\n",
    "                print(queue[0])\n",
    "        elif str1[0]=='back':\n",
    "            if len(queue) ==0:\n",
    "                print(-1)\n",
    "            else:\n",
    "                print(queue[-1])"
   ]
  },
  {
   "cell_type": "markdown",
   "metadata": {},
   "source": [
    "# 2164번"
   ]
  },
  {
   "cell_type": "markdown",
   "metadata": {},
   "source": [
    "- 성공한 코드"
   ]
  },
  {
   "cell_type": "code",
   "execution_count": null,
   "metadata": {},
   "outputs": [],
   "source": [
    "# collections 모듈 이용\n",
    "\n",
    "import sys\n",
    "import collections as col\n",
    "\n",
    "queue=col.deque() # deque는 양쪽 끝에서 append와 pop을 실행하면 O(1)이다.\n",
    "\n",
    "card_cnt= int(sys.stdin.readline())\n",
    "queue = col.deque()\n",
    "for i in range(card_cnt):\n",
    "    queue.append(i+1)\n",
    "\n",
    "while len(queue)>1:\n",
    "    queue.popleft()\n",
    "    queue.append(queue.popleft())\n",
    "\n",
    "print(queue[0])"
   ]
  },
  {
   "cell_type": "markdown",
   "metadata": {},
   "source": [
    "# 11866번"
   ]
  },
  {
   "cell_type": "markdown",
   "metadata": {},
   "source": [
    "- 성공한 코드"
   ]
  },
  {
   "cell_type": "code",
   "execution_count": null,
   "metadata": {},
   "outputs": [],
   "source": [
    "import sys\n",
    "import collections as col\n",
    "n, k = map(int, sys.stdin.readline().split())\n",
    "queue=col.deque() # 1~n번의 사람이 앉는 큐\n",
    "for i in range(n):\n",
    "    queue.append(i+1)\n",
    "answer=[] # 요세푸스 순열을 저장하는 리스트\n",
    "def josephus(queue,k):\n",
    "    # 계속해서 가장 왼쪽에 있는 번호를 하나씩 제거하기\n",
    "    # 만약 제거된 번호가 제거대상이 아니면 다시 가장 오른쪽에 추가하기\n",
    "    # 제거대상이라면 그대로 제거 후 정답 리스트에 추가\n",
    "    target_ele= queue[k-1] # 제거대상\n",
    "    while len(queue)>0: # 큐에 번호가 하나도 없을 때까지\n",
    "        ele=queue.popleft() # 가장 왼쪽의 번호 제거\n",
    "        if ele == target_ele: # 제거된 번호가 제거 대상인 경우\n",
    "            answer.append(ele) # 정답 리스트에 추가\n",
    "            if len(queue)>0:\n",
    "                target_ele=queue[(k-1)%len(queue)] # 다음 제거대상\n",
    "        else: # 제거대상이 아닌 경우\n",
    "            queue.append(ele) # 큐 오른쪽에 추가\n",
    "\n",
    "josephus(queue,k)\n",
    "\n",
    "print('<', end='')\n",
    "for i in range(len(answer)): # 출력\n",
    "    if len(answer)-1 == i:\n",
    "        print(answer[i], end='>')\n",
    "    else:\n",
    "        print(answer[i], end=', ')"
   ]
  },
  {
   "cell_type": "markdown",
   "metadata": {},
   "source": [
    "# 1966번"
   ]
  },
  {
   "cell_type": "markdown",
   "metadata": {},
   "source": [
    "- 성공한 코드"
   ]
  },
  {
   "cell_type": "code",
   "execution_count": null,
   "metadata": {},
   "outputs": [],
   "source": [
    "# collections의 deque를 이용\n",
    "# 우선순위 큐\n",
    "import sys\n",
    "import collections as col\n",
    "\n",
    "def priority_queue(queue):\n",
    "    # 큐의 왼쪽의 문서를 하나씩 출력준비\n",
    "    # 만약 준비하고 있는 문서보다 중요도가 높은 문서가 있으면 큐의 오른쪽에 추가\n",
    "    # 준비 중인 문서가 중요도가 가장 높다면 그대로 인쇄 후 목표 문서의 인쇄 순위를 하나 증가시키고 남은 큐에서 중요도가 가장 높은 가값 탐색\n",
    "    # 순환 구조\n",
    "    \n",
    "    # target = 목표 문서의 준비 순위; 준비 중인 문서가 인쇄 or 뒤로 갈 때 변함\n",
    "    # target_cnt = 목표 문서의 인쇄 순위: 특정 문서가 인쇄될 때 증가함\n",
    "    \n",
    "    global max1, target, target_cnt\n",
    "    if max1 == queue[0]: ## 준비 중인 문서가 중요도가 가장 높고\n",
    "        queue.popleft()\n",
    "        if target == 0: # 준비 중인 문서가 목표 문서인 경우\n",
    "            return target_cnt # 목표 문서의 출력 순위를 반환\n",
    "        \n",
    "        else: # 목표 문서가 아닌 경우; 그대로 인쇄됨\n",
    "            target-=1 # 목표 문서의 준비 순위가 하나 당겨짐\n",
    "            target_cnt+=1 # 목표 문서의 인쇄 순위가 증가함; \n",
    "            max1 = max(queue) # 중요도 최댓값 갱신\n",
    "            return priority_queue(queue) # 바뀐 큐로 다시 순환\n",
    "        \n",
    "    else: ## 준비 중인 문서보다 중요도가 높은 문서가 있고\n",
    "        ele = queue.popleft()\n",
    "        if target == 0: # 준비 중인 문서가 목표 문서인 경우: 지금 인쇄는 못함\n",
    "            queue.append(ele) # 큐의 오른쪽으로 추가\n",
    "            target=len(queue)-1 # 목표문서의 준비순위가 가장 뒤로감 \n",
    "            return priority_queue(queue) # 순환\n",
    "        \n",
    "        else:# 목표 문서가 아닌 경우; 인쇄 못함\n",
    "            queue.append(ele) # 큐의 오른쪽으로 추가\n",
    "            target -= 1 # 목표 문서의 준비 순위가 하나 당겨짐\n",
    "            return priority_queue(queue) # 순환\n",
    "\n",
    "for i in range(int(sys.stdin.readline())):\n",
    "    doc_cnt, target= map(int, sys.stdin.readline().split())\n",
    "    priority_list = list(map(int, sys.stdin.readline().split())) # 중요도 입력\n",
    "    queue = col.deque(priority_list) # 준비순위를 나타내는 큐\n",
    "    target_cnt=1 # 목표문서의 인쇄 순위는 1부터 시작\n",
    "    max1 = max(queue) # 중요도 최댓값\n",
    "    print(priority_queue(queue)) # 목표문서의 인쇄 순위 출력\n",
    "\n"
   ]
  },
  {
   "cell_type": "markdown",
   "metadata": {},
   "source": [
    "# 10866번"
   ]
  },
  {
   "cell_type": "markdown",
   "metadata": {},
   "source": [
    "- 성공한 코드"
   ]
  },
  {
   "cell_type": "code",
   "execution_count": null,
   "metadata": {},
   "outputs": [],
   "source": [
    "# collections의 deque를 이용\n",
    "import sys\n",
    "import collections as col\n",
    "\n",
    "deque=col.deque()\n",
    "\n",
    "for i in range(int(sys.stdin.readline())):\n",
    "    str1 = sys.stdin.readline().split()\n",
    "    if len(str1) == 2:\n",
    "        if str1[0] == 'push_back':\n",
    "            deque.append(str1[1])\n",
    "        elif str1[0]== 'push_front':\n",
    "            deque.appendleft(str1[1])\n",
    "    else:\n",
    "        if str1[0] == 'pop_back':\n",
    "            if len(deque) == 0:\n",
    "                print(-1)\n",
    "            else:\n",
    "                print(deque.pop())\n",
    "        elif str1[0] == 'pop_front':\n",
    "            if len(deque) == 0:\n",
    "                print(-1)\n",
    "            else:\n",
    "                print(deque.popleft())\n",
    "        elif str1[0] == 'size':\n",
    "            print(len(deque))\n",
    "        elif str1[0] == 'empty':\n",
    "            if len(deque) == 0:\n",
    "                print(1)\n",
    "            else:\n",
    "                print(0)\n",
    "        elif str1[0] == 'front':\n",
    "            if len(deque) == 0:\n",
    "                print(-1)\n",
    "            else:\n",
    "                print(deque[0])\n",
    "        elif str1[0] == 'back':\n",
    "            if len(deque) == 0:\n",
    "                print(-1)\n",
    "            else:\n",
    "                print(deque[-1])"
   ]
  },
  {
   "cell_type": "markdown",
   "metadata": {},
   "source": [
    "# 1021번"
   ]
  },
  {
   "cell_type": "markdown",
   "metadata": {},
   "source": [
    "- 성공한 코드 "
   ]
  },
  {
   "cell_type": "code",
   "execution_count": null,
   "metadata": {},
   "outputs": [],
   "source": [
    "# collections의 deque를 이용\n",
    "import sys\n",
    "import collections as col\n",
    "\n",
    "# 입력\n",
    "n, m = map(int, sys.stdin.readline().split())\n",
    "num_list=col.deque(list(map(int, sys.stdin.readline().split()))) # 뽑아내려는 숫자 리스트\n",
    "queue = col.deque()\n",
    "for i in range(n):\n",
    "    queue.append(i+1)\n",
    "\n",
    "cnt=0 # 2, 3번 연산의 횟수\n",
    "\n",
    "def circular_queue(queue, num_list):\n",
    "    global m, target_index, cnt\n",
    "    while m>0: # 뽑으려는 숫자를 모두 제거할 때까지\n",
    "        target = num_list[0] # 목표 숫자\n",
    "        \n",
    "        if queue[0] == target: # 첫번째 숫자가 목표 숫자인 경우 \n",
    "            queue.popleft() # 첫번째 숫자 제거\n",
    "            num_list.popleft() # 목표 리스트에서 제거한 목표숫자 빼기\n",
    "            \n",
    "        else: # 첫번째 숫자가 목표 숫자가 아닌 경우 \n",
    "            test_queue=queue.copy() # 큐 복사\n",
    "            while True:\n",
    "                # 연산2와 연산3을 동시에 하며 아무 경우나 첫번째 숫자가 목표숫자가 나올 때까지\n",
    "                queue.append(queue.popleft()) # 연산2의 경우 \n",
    "                test_queue.appendleft(test_queue.pop()) # 연산3의 경우; 복사한 큐로 실행\n",
    "                cnt+=1 # 연산 횟수 증가\n",
    "                \n",
    "                if queue[0]== target:# 연산2의 경우가 최선인 경우\n",
    "                    queue.popleft()\n",
    "                    num_list.popleft()\n",
    "                    break\n",
    "                elif test_queue[0] == target: # 연산3의 경우가 최선인 경우\n",
    "                    test_queue.popleft()\n",
    "                    queue=test_queue # 원래 큐를 복사한 큐로 바꿈\n",
    "                    num_list.popleft()\n",
    "                    break\n",
    "\n",
    "        m-=1 # 뽑으려고 하는 수의 개수 1 감소 \n",
    "        \n",
    "circular_queue(queue, num_list)\n",
    "print(cnt) # 출력\n"
   ]
  }
 ],
 "metadata": {
  "kernelspec": {
   "display_name": "Python 3",
   "language": "python",
   "name": "python3"
  },
  "language_info": {
   "codemirror_mode": {
    "name": "ipython",
    "version": 3
   },
   "file_extension": ".py",
   "mimetype": "text/x-python",
   "name": "python",
   "nbconvert_exporter": "python",
   "pygments_lexer": "ipython3",
   "version": "3.8.3"
  }
 },
 "nbformat": 4,
 "nbformat_minor": 4
}
