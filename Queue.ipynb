{
 "cells": [
  {
   "cell_type": "markdown",
   "metadata": {},
   "source": [
    "# 큐"
   ]
  },
  {
   "cell_type": "markdown",
   "metadata": {},
   "source": [
    "# 18258번"
   ]
  },
  {
   "cell_type": "markdown",
   "metadata": {},
   "source": [
    "- 시간초과된 코드"
   ]
  },
  {
   "cell_type": "code",
   "execution_count": null,
   "metadata": {},
   "outputs": [],
   "source": [
    "# 문제 연산 당 시간 복잡도가 O(1)이어야 함\n",
    "# 원형 큐 이용\n",
    "import sys\n",
    "\n",
    "QUEUE_SIZE=20000000 # 큐 안에 2,000,000개의 요소가 저장될 수 있음\n",
    "\n",
    "class circular_queue():\n",
    "    def __init__(self):\n",
    "        self.queue=[None]*QUEUE_SIZE\n",
    "        self.end = 0 # 큐의 맨 뒷 부분\n",
    "        self.start = 0 # 큐의 맨 앞부분\n",
    "\n",
    "    def queue_push(self, ele): # 큐가 가득 차는 일은 없다고 가정\n",
    "        self.end= (self.end + 1) % QUEUE_SIZE\n",
    "        self.queue[self.end] = ele\n",
    "\n",
    "    def queue_pop(self):\n",
    "        if self.queue_empty():\n",
    "            return -1\n",
    "        else:\n",
    "            self.start = (self.start + 1) % QUEUE_SIZE\n",
    "            return self.queue[self.start]\n",
    "    def queue_size(self):\n",
    "        if self.end > self.start:\n",
    "            return self.end - self.start\n",
    "        else:\n",
    "            return self.start - self.end\n",
    "    def queue_empty(self):\n",
    "        if self.queue_size() == 0:\n",
    "            return 1\n",
    "        else:\n",
    "            return 0\n",
    "    def queue_front(self):\n",
    "        if self.queue_empty():\n",
    "            return -1\n",
    "        else:\n",
    "            return self.queue[self.start+1]\n",
    "    def queue_back(self):\n",
    "        if self.queue_empty():\n",
    "            return -1\n",
    "        else:\n",
    "            return self.queue[self.end]\n",
    "\n",
    "c=circular_queue()\n",
    "for i in range(int(sys.stdin.readline())):\n",
    "    str1 = sys.stdin.readline().split()\n",
    "    if len(str1)==2: # push하는 경우밖에 없음\n",
    "        c.queue_push(int(str1[1]))\n",
    "    else:\n",
    "        if str1[0]=='pop':\n",
    "            print(c.queue_pop())\n",
    "        elif str1[0]=='size':\n",
    "            print(c.queue_size())\n",
    "        elif str1[0]=='empty':\n",
    "            print(c.queue_empty())\n",
    "        elif str1[0]=='front':\n",
    "            print(c.queue_front())\n",
    "        elif str1[0]=='back':\n",
    "            print(c.queue_back())\n",
    "\n"
   ]
  },
  {
   "cell_type": "markdown",
   "metadata": {},
   "source": [
    "- 성공한 코드"
   ]
  },
  {
   "cell_type": "code",
   "execution_count": null,
   "metadata": {},
   "outputs": [],
   "source": [
    "# 문제 연산 당 시간 복잡도가 O(1)이어야 함\n",
    "# collections 모듈 이용\n",
    "import sys\n",
    "import collections as col\n",
    "\n",
    "queue=col.deque() # deque는 양쪽 끝에서 append와 pop을 실행하면 O(1)이다.\n",
    "\n",
    "for i in range(int(sys.stdin.readline())):\n",
    "    str1 = sys.stdin.readline().split()\n",
    "    if len(str1)==2: # push하는 경우밖에 없음\n",
    "        queue.append(str1[1])\n",
    "    else:\n",
    "        if str1[0]=='pop':\n",
    "            if len(queue) ==0:\n",
    "                print(-1)\n",
    "            else:\n",
    "                print(queue.popleft())\n",
    "        elif str1[0]=='size':\n",
    "            print(len(queue))\n",
    "        elif str1[0]=='empty':\n",
    "            if len(queue) ==0:\n",
    "                print(1)\n",
    "            else:\n",
    "                print(0)\n",
    "        elif str1[0]=='front':\n",
    "            if len(queue) ==0:\n",
    "                print(-1)\n",
    "            else:\n",
    "                print(queue[0])\n",
    "        elif str1[0]=='back':\n",
    "            if len(queue) ==0:\n",
    "                print(-1)\n",
    "            else:\n",
    "                print(queue[-1])"
   ]
  },
  {
   "cell_type": "markdown",
   "metadata": {},
   "source": [
    "# 2164번"
   ]
  },
  {
   "cell_type": "markdown",
   "metadata": {},
   "source": [
    "- 성공한 코드"
   ]
  },
  {
   "cell_type": "code",
   "execution_count": null,
   "metadata": {},
   "outputs": [],
   "source": [
    "# collections 모듈 이용\n",
    "\n",
    "import sys\n",
    "import collections as col\n",
    "\n",
    "queue=col.deque() # deque는 양쪽 끝에서 append와 pop을 실행하면 O(1)이다.\n",
    "\n",
    "card_cnt= int(sys.stdin.readline())\n",
    "queue = col.deque()\n",
    "for i in range(card_cnt):\n",
    "    queue.append(i+1)\n",
    "\n",
    "while len(queue)>1:\n",
    "    queue.popleft()\n",
    "    queue.append(queue.popleft())\n",
    "\n",
    "print(queue[0])"
   ]
  }
 ],
 "metadata": {
  "kernelspec": {
   "display_name": "Python 3",
   "language": "python",
   "name": "python3"
  },
  "language_info": {
   "codemirror_mode": {
    "name": "ipython",
    "version": 3
   },
   "file_extension": ".py",
   "mimetype": "text/x-python",
   "name": "python",
   "nbconvert_exporter": "python",
   "pygments_lexer": "ipython3",
   "version": "3.8.3"
  }
 },
 "nbformat": 4,
 "nbformat_minor": 4
}
