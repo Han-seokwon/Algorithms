{
 "cells": [
  {
   "cell_type": "markdown",
   "metadata": {},
   "source": [
    "# 동적계획법1 "
   ]
  },
  {
   "cell_type": "markdown",
   "metadata": {},
   "source": [
    "# 1003번"
   ]
  },
  {
   "cell_type": "code",
   "execution_count": null,
   "metadata": {},
   "outputs": [],
   "source": [
    "import sys\n",
    "\n",
    "def fibo(n):\n",
    "    if n in dic:\n",
    "        return dic[n]\n",
    "    else:\n",
    "        dic[n]=[fibo(n-1)[0]+fibo(n-2)[0],fibo(n-1)[1]+fibo(n-2)[1]]\n",
    "        return dic[n]\n",
    "\n",
    "\n",
    "for i in range(int(sys.stdin.readline())):\n",
    "    dic={0:[1,0],1:[0,1]}\n",
    "    n=int(sys.stdin.readline())\n",
    "    fibo(n)\n",
    "    print(dic[n][0],dic[n][1])"
   ]
  },
  {
   "cell_type": "markdown",
   "metadata": {},
   "source": [
    "# 9461번"
   ]
  },
  {
   "cell_type": "code",
   "execution_count": null,
   "metadata": {},
   "outputs": [],
   "source": [
    "import sys\n",
    "\n",
    "lis = [1, 1, 1, 2, 2]\n",
    "\n",
    "def tri(n):\n",
    "    lis = [1, 1, 1, 2, 2]\n",
    "    if len(lis)>=n:\n",
    "        return lis[n-1]\n",
    "    else:\n",
    "        for i in range(n-5):\n",
    "            lis.append(lis[-1]+lis[-5])\n",
    "        return lis[-1]\n",
    "\n",
    "for i in range(int(sys.stdin.readline())):\n",
    "    print(tri(int(sys.stdin.readline())))"
   ]
  }
 ],
 "metadata": {
  "kernelspec": {
   "display_name": "Python 3",
   "language": "python",
   "name": "python3"
  },
  "language_info": {
   "codemirror_mode": {
    "name": "ipython",
    "version": 3
   },
   "file_extension": ".py",
   "mimetype": "text/x-python",
   "name": "python",
   "nbconvert_exporter": "python",
   "pygments_lexer": "ipython3",
   "version": "3.8.3"
  }
 },
 "nbformat": 4,
 "nbformat_minor": 4
}
